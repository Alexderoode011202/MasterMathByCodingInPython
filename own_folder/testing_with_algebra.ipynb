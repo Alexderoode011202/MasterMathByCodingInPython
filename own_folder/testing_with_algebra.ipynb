{
 "cells": [
  {
   "cell_type": "code",
   "execution_count": 6,
   "metadata": {},
   "outputs": [],
   "source": [
    "import sympy as sym\n",
    "\n",
    "from IPython.display import display, Math\n",
    "\n",
    "sym.init_printing()\n"
   ]
  },
  {
   "cell_type": "code",
   "execution_count": 30,
   "metadata": {},
   "outputs": [
    {
     "data": {
      "text/latex": [
       "$\\displaystyle \\text{We want to solve the equation } 7 x^{2} + 14 x - 3 = 5$"
      ],
      "text/plain": [
       "<IPython.core.display.Math object>"
      ]
     },
     "metadata": {},
     "output_type": "display_data"
    },
    {
     "data": {
      "text/latex": [
       "$\\displaystyle \\text{We first convert this equation to a homogeneous one} \\rightarrow \\quad 7 x^{2} + 14 x - 8 = 0$"
      ],
      "text/plain": [
       "<IPython.core.display.Math object>"
      ]
     },
     "metadata": {},
     "output_type": "display_data"
    },
    {
     "data": {
      "text/latex": [
       "$\\displaystyle \\text{Now we solve it:}$"
      ],
      "text/plain": [
       "<IPython.core.display.Math object>"
      ]
     },
     "metadata": {},
     "output_type": "display_data"
    },
    {
     "data": {
      "text/latex": [
       "$\\displaystyle x = -1 + \\frac{\\sqrt{105}}{7}$"
      ],
      "text/plain": [
       "<IPython.core.display.Math object>"
      ]
     },
     "metadata": {},
     "output_type": "display_data"
    },
    {
     "data": {
      "text/latex": [
       "$\\displaystyle x = - \\frac{\\sqrt{105}}{7} - 1$"
      ],
      "text/plain": [
       "<IPython.core.display.Math object>"
      ]
     },
     "metadata": {},
     "output_type": "display_data"
    }
   ],
   "source": [
    "x = sym.Symbol(\"x\")\n",
    "eq = 7*x**2 + 14*x - 3\n",
    "eq2 = eq - 5\n",
    "\n",
    "\"\"\"display(eq)\n",
    "display(eq2)\"\"\"\n",
    "display(Math(\"\\\\text{We want to solve the equation } %s = 5\"%(sym.latex(eq))))\n",
    "display(Math(\"\\\\text{We first convert this equation to a homogeneous one} \\\\rightarrow \\\\quad %s = 0\"%(sym.latex(eq-5))))\n",
    "display(Math(\"\\\\text{Now we solve it:}\"))\n",
    "solutions = sym.solve(eq2)\n",
    "\n",
    "for solution in solutions:\n",
    "    display(Math(\"x = %s\"%(sym.latex(solution))))\n"
   ]
  },
  {
   "cell_type": "code",
   "execution_count": 31,
   "metadata": {},
   "outputs": [
    {
     "data": {
      "text/plain": [
       "'7 x^{2} + 14 x - 8'"
      ]
     },
     "execution_count": 31,
     "metadata": {},
     "output_type": "execute_result"
    }
   ],
   "source": [
    "sym.latex(eq2)"
   ]
  }
 ],
 "metadata": {
  "kernelspec": {
   "display_name": "new",
   "language": "python",
   "name": "python3"
  },
  "language_info": {
   "codemirror_mode": {
    "name": "ipython",
    "version": 3
   },
   "file_extension": ".py",
   "mimetype": "text/x-python",
   "name": "python",
   "nbconvert_exporter": "python",
   "pygments_lexer": "ipython3",
   "version": "3.11.7"
  }
 },
 "nbformat": 4,
 "nbformat_minor": 2
}
