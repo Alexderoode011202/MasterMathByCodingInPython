{
 "cells": [
  {
   "cell_type": "code",
   "execution_count": 16,
   "metadata": {},
   "outputs": [],
   "source": [
    "import matplotlib.pyplot as plt\n",
    "import sympy as sym\n",
    "import numpy as np\n",
    "\n",
    "from IPython.display import display, Math, YouTubeVideo\n",
    "sym.init_printing()\n",
    "import sympy"
   ]
  },
  {
   "cell_type": "markdown",
   "metadata": {},
   "source": [
    "## Little guide on sum notation\n",
    "\n",
    "The sum notation looks like the following:\n",
    "$\\sum_{x=0}^{i} \\left(3 x + 1\\right)$. <br>\n",
    "The sigma notation, based on the symbol 'Sigma': $\\Sigma$, <br>\n",
    "\n",
    "stands for summing up the results of multiple outcomes of the same formula, <br>\n",
    "where each outcome is created with a different input for the parameters of the function.\n",
    "We always start with a lowest number as the first input for the parameter and then increment until we reach the maximum value. <br>\n",
    "We end up with calculating the output of the function for that maximal value, and then sum up all the outcomes across the board, which we then return. <br>\n",
    "\n",
    "#### Syntax for sum notation in sympy\n",
    "1. A sum notation always gets instantiated with the sym.Sum() function.\n",
    "2. The first parameter takes in the function for which all outputs get calculated\n",
    "3. The second paramter takes in a 3-tuple consisting of the:\n",
    "    1. symbol used in the function\n",
    "    2. the starting value (or symbol)\n",
    "    3. the ending value (or symbol)\n",
    "\n",
    "\n",
    "#### This is what an example looks like in python code\n",
    "```python\n",
    "func1 = sym.Sum(3*x+1, (x, 0, i))\n",
    "```\n"
   ]
  },
  {
   "cell_type": "code",
   "execution_count": 17,
   "metadata": {},
   "outputs": [
    {
     "data": {
      "image/png": "[encoded data removed]",
      "text/latex": [
       "$\\displaystyle \\sum_{x=0}^{i} \\left(3 x + 1\\right)$"
      ],
      "text/plain": [
       "  i            \n",
       " ___           \n",
       " ╲             \n",
       "  ╲            \n",
       "  ╱   (3⋅x + 1)\n",
       " ╱             \n",
       " ‾‾‾           \n",
       "x = 0          "
      ]
     },
     "metadata": {},
     "output_type": "display_data"
    },
    {
     "data": {
      "image/png": "[encoded data removed]",
      "text/latex": [
       "$\\displaystyle \\sum_{x=0}^{3} \\left(3 x + 1\\right)$"
      ],
      "text/plain": [
       "  3            \n",
       " ___           \n",
       " ╲             \n",
       "  ╲            \n",
       "  ╱   (3⋅x + 1)\n",
       " ╱             \n",
       " ‾‾‾           \n",
       "x = 0          "
      ]
     },
     "metadata": {},
     "output_type": "display_data"
    },
    {
     "name": "stdout",
     "output_type": "stream",
     "text": [
      "22\n",
      "\\sum_{x=0}^{i} \\left(3 x + 1\\right)\n"
     ]
    }
   ],
   "source": [
    "x,y,z = sym.symbols(\"x,y,z\")\n",
    "i = sym.Symbol(\"i\")\n",
    "func1 = sym.Sum(3*x+1, (x, 0, i))\n",
    "\n",
    "display(func1)\n",
    "\n",
    "display(func1.subs({i:3, }))\n",
    "\n",
    "print(func1.subs({i:3}).doit())\n",
    "\n",
    "print(sym.latex(func1))"
   ]
  },
  {
   "cell_type": "markdown",
   "metadata": {},
   "source": [
    "### The syntax works exactly the same for product\n",
    "```python\n",
    "func2 = sym.Product(5*x+3, (x,0,i))\n",
    "```"
   ]
  },
  {
   "cell_type": "code",
   "execution_count": 18,
   "metadata": {},
   "outputs": [
    {
     "data": {
      "image/png": "[encoded data removed]",
      "text/latex": [
       "$\\displaystyle \\prod_{x=0}^{i} \\left(5 x + 3\\right)$"
      ],
      "text/plain": [
       "  i          \n",
       "─┬─┬─        \n",
       " │ │  5⋅x + 3\n",
       " │ │         \n",
       "x = 0        "
      ]
     },
     "metadata": {},
     "output_type": "display_data"
    }
   ],
   "source": [
    "func2 = sym.Product(5*x+3, (x,0,i))\n",
    "display(func2)"
   ]
  },
  {
   "cell_type": "markdown",
   "metadata": {},
   "source": [
    "## How to calculate with sum notation\n",
    "\n",
    "Calculating the outcome of a sum notation is not as simple as substituting the i-parameter for some number. <br>\n",
    "What you instead have to is both substitute the i-parameter for a value and the use the .doit() method to calculate the outcome. <br>"
   ]
  },
  {
   "cell_type": "code",
   "execution_count": 19,
   "metadata": {},
   "outputs": [
    {
     "data": {
      "image/png": "[encoded data removed]",
      "text/latex": [
       "$\\displaystyle \\sum_{x=0}^{i} \\left(3 x + 1\\right)$"
      ],
      "text/plain": [
       "  i            \n",
       " ___           \n",
       " ╲             \n",
       "  ╲            \n",
       "  ╱   (3⋅x + 1)\n",
       " ╱             \n",
       " ‾‾‾           \n",
       "x = 0          "
      ]
     },
     "metadata": {},
     "output_type": "display_data"
    },
    {
     "data": {
      "image/png": "[encoded data removed]",
      "text/latex": [
       "$\\displaystyle \\sum_{x=0}^{5} \\left(3 x + 1\\right)$"
      ],
      "text/plain": [
       "  5            \n",
       " ___           \n",
       " ╲             \n",
       "  ╲            \n",
       "  ╱   (3⋅x + 1)\n",
       " ╱             \n",
       " ‾‾‾           \n",
       "x = 0          "
      ]
     },
     "metadata": {},
     "output_type": "display_data"
    },
    {
     "data": {
      "text/latex": [
       "$\\displaystyle \\sum_{x=0}^{i} \\left(3 x + 1\\right) \\text{with i = } 5\\text{ equals: } \\sum_{x=0}^{5} \\left(3 x + 1\\right) = 51$"
      ],
      "text/plain": [
       "<IPython.core.display.Math object>"
      ]
     },
     "metadata": {},
     "output_type": "display_data"
    },
    {
     "data": {
      "text/latex": [
       "$\\displaystyle \\sum_{x=0}^{5} \\left(3 x + 1\\right)$"
      ],
      "text/plain": [
       "<IPython.core.display.Math object>"
      ]
     },
     "metadata": {},
     "output_type": "display_data"
    },
    {
     "data": {
      "text/latex": [
       "$\\displaystyle 51$"
      ],
      "text/plain": [
       "<IPython.core.display.Math object>"
      ]
     },
     "metadata": {},
     "output_type": "display_data"
    },
    {
     "data": {
      "text/latex": [
       "$\\displaystyle \\text{Hi. How are you?}$"
      ],
      "text/plain": [
       "<IPython.core.display.Math object>"
      ]
     },
     "metadata": {},
     "output_type": "display_data"
    }
   ],
   "source": [
    "display(func1)\n",
    "\n",
    "# this does not work\n",
    "display(func1.subs({i:5}))\n",
    "n = 5\n",
    "# this does work however\n",
    "# display(Math(\"%s \\\\text{with i = %s equals: } %s = %s\"(sym.latex(func1), n, sym.latex(func1.subs({i:n})), sym.latex(func1.subs({i:n}).doit()))))\n",
    "display(Math(\"%s \\\\text{with i = } %s\\\\text{ equals: } %s = %s\" % (sym.latex(func1), n, sym.latex(func1.subs({i:n})), sym.latex(func1.subs({i:n}).doit()))))\n",
    "\n",
    "display(Math(\"%s\"%(sym.latex(func1.subs({i:n})))))\n",
    "display(Math(\"%s\"%(sym.latex(func1.subs({i:n}).doit()))))\n",
    "display(Math(\"\\\\text{Hi. How are you?}\"))"
   ]
  },
  {
   "cell_type": "code",
   "execution_count": 20,
   "metadata": {},
   "outputs": [
    {
     "data": {
      "image/png": "[encoded data removed]",
      "text/latex": [
       "$\\displaystyle \\sum_{x=0}^{i} \\left(3 x + 1\\right)$"
      ],
      "text/plain": [
       "  i            \n",
       " ___           \n",
       " ╲             \n",
       "  ╲            \n",
       "  ╱   (3⋅x + 1)\n",
       " ╱             \n",
       " ‾‾‾           \n",
       "x = 0          "
      ]
     },
     "metadata": {},
     "output_type": "display_data"
    },
    {
     "data": {
      "image/png": "[encoded data removed]",
      "text/latex": [
       "$\\displaystyle \\sum_{x=0}^{5} \\left(3 x + 1\\right)$"
      ],
      "text/plain": [
       "  5            \n",
       " ___           \n",
       " ╲             \n",
       "  ╲            \n",
       "  ╱   (3⋅x + 1)\n",
       " ╱             \n",
       " ‾‾‾           \n",
       "x = 0          "
      ]
     },
     "metadata": {},
     "output_type": "display_data"
    },
    {
     "data": {
      "text/latex": [
       "$\\displaystyle \\sum_{x=0}^{i} \\left(3 x + 1\\right) \\text{ with } i = 5 \\text{ equals: } \\sum_{x=0}^{5} \\left(3 x + 1\\right) = 51$"
      ],
      "text/plain": [
       "<IPython.core.display.Math object>"
      ]
     },
     "metadata": {},
     "output_type": "display_data"
    },
    {
     "data": {
      "text/latex": [
       "$\\displaystyle \\sum_{x=0}^{5} \\left(3 x + 1\\right)$"
      ],
      "text/plain": [
       "<IPython.core.display.Math object>"
      ]
     },
     "metadata": {},
     "output_type": "display_data"
    },
    {
     "data": {
      "text/latex": [
       "$\\displaystyle 51$"
      ],
      "text/plain": [
       "<IPython.core.display.Math object>"
      ]
     },
     "metadata": {},
     "output_type": "display_data"
    },
    {
     "data": {
      "text/latex": [
       "$\\displaystyle \\text{Hi. How are you?}$"
      ],
      "text/plain": [
       "<IPython.core.display.Math object>"
      ]
     },
     "metadata": {},
     "output_type": "display_data"
    }
   ],
   "source": [
    "import sympy as sym\n",
    "from IPython.display import display, Math\n",
    "\n",
    "# Define symbols and the symbolic sum\n",
    "x, i = sym.symbols(\"x i\")\n",
    "func1 = sym.Sum(3 * x + 1, (x, 0, i))\n",
    "\n",
    "# Display the symbolic sum using display()\n",
    "display(func1)\n",
    "\n",
    "# Display the result of the symbolic sum with i = 5\n",
    "display(func1.subs({i: 5}))\n",
    "\n",
    "# Define the value of n\n",
    "n = 5\n",
    "\n",
    "# Display the symbolic sum with i = n and its evaluated result\n",
    "display(Math(\"%s \\\\text{ with } i = %s \\\\text{ equals: } %s = %s\" % (sym.latex(func1), n, sym.latex(func1.subs({i: n})), sym.latex(func1.subs({i: n}).doit()))))\n",
    "\n",
    "# Display the symbolic sum with i = n\n",
    "display(Math(\"%s\" % (sym.latex(func1.subs({i: n})))))\n",
    "\n",
    "# Display the evaluated result of the symbolic sum with i = n\n",
    "display(Math(\"%s\" % (sym.latex(func1.subs({i: n}).doit()))))\n",
    "\n",
    "# Display a simple text using Math() function\n",
    "display(Math(\"\\\\text{Hi. How are you?}\"))"
   ]
  },
  {
   "cell_type": "code",
   "execution_count": 22,
   "metadata": {},
   "outputs": [
    {
     "name": "stderr",
     "output_type": "stream",
     "text": [
      "/home/alex/anaconda3/envs/new/lib/python3.11/site-packages/sympy/plotting/plot.py:1529: UserWarning: Attempting to set identical low and high ylims makes transformation singular; automatically expanding.\n",
      "  ax.set_ylim(parent.ylim)\n",
      "/home/alex/anaconda3/envs/new/lib/python3.11/site-packages/sympy/plotting/plot.py:1554: UserWarning: Tight layout not applied. The bottom and top margins cannot be made large enough to accommodate all axes decorations.\n",
      "  self.fig.tight_layout()\n"
     ]
    },
    {
     "data": {
      "image/png": "[encoded data removed]",
      "text/plain": [
       "<Figure size 640x480 with 1 Axes>"
      ]
     },
     "metadata": {},
     "output_type": "display_data"
    }
   ],
   "source": []
  }
 ],
 "metadata": {
  "kernelspec": {
   "display_name": "new",
   "language": "python",
   "name": "python3"
  },
  "language_info": {
   "codemirror_mode": {
    "name": "ipython",
    "version": 3
   },
   "file_extension": ".py",
   "mimetype": "text/x-python",
   "name": "python",
   "nbconvert_exporter": "python",
   "pygments_lexer": "ipython3",
   "version": "3.11.7"
  }
 },
 "nbformat": 4,
 "nbformat_minor": 2
}
