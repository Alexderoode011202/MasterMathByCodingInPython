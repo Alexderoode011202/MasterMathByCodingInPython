{
 "cells": [
  {
   "cell_type": "code",
   "execution_count": 1,
   "metadata": {},
   "outputs": [],
   "source": [
    "import sympy as sym\n",
    "import numpy as np\n",
    "import math\n",
    "\n",
    "from IPython.display import display, Math\n",
    "\n",
    "sym.init_printing()"
   ]
  },
  {
   "cell_type": "code",
   "execution_count": 2,
   "metadata": {},
   "outputs": [
    {
     "data": {
      "text/latex": [
       "$\\displaystyle 3x+5$"
      ],
      "text/plain": [
       "<IPython.core.display.Math object>"
      ]
     },
     "metadata": {},
     "output_type": "display_data"
    }
   ],
   "source": [
    "display(Math(\"3x+5\"))"
   ]
  },
  {
   "cell_type": "markdown",
   "metadata": {},
   "source": [
    "## I forgot what I did here\n",
    "But I can add markdown cells"
   ]
  },
  {
   "cell_type": "code",
   "execution_count": 10,
   "metadata": {},
   "outputs": [
    {
     "data": {
      "text/latex": [
       "$\\displaystyle \\text{The greatest common denominator between } 15 \\text{ and } 44 \\text{ is } 1$"
      ],
      "text/plain": [
       "<IPython.core.display.Math object>"
      ]
     },
     "metadata": {},
     "output_type": "display_data"
    }
   ],
   "source": [
    "# how to find greatest common denominator:\n",
    "display(Math(\"\\\\text{The greatest common denominator between } 15 \\\\text{ and } 44 \\\\text{ is } %s\"%(math.gcd(15,44))))"
   ]
  },
  {
   "cell_type": "code",
   "execution_count": 11,
   "metadata": {},
   "outputs": [
    {
     "name": "stdout",
     "output_type": "stream",
     "text": [
      "{3: 2, 37: 1}\n"
     ]
    }
   ],
   "source": [
    "# how to perform prime factorization in python\n",
    "print(sym.factorint(333))"
   ]
  },
  {
   "cell_type": "code",
   "execution_count": 18,
   "metadata": {},
   "outputs": [
    {
     "name": "stdout",
     "output_type": "stream",
     "text": [
      "1 can be factorized into []\n",
      "2 is a prime number\n",
      "3 is a prime number\n",
      "4 is a prime number\n",
      "5 is a prime number\n",
      "6 can be factorized into [2, 3]\n",
      "7 is a prime number\n",
      "8 is a prime number\n",
      "9 is a prime number\n",
      "10 can be factorized into [2, 5]\n",
      "11 is a prime number\n",
      "12 can be factorized into [2, 3]\n",
      "13 is a prime number\n",
      "14 can be factorized into [2, 7]\n",
      "15 can be factorized into [3, 5]\n",
      "16 is a prime number\n",
      "17 is a prime number\n",
      "18 can be factorized into [2, 3]\n",
      "19 is a prime number\n",
      "20 can be factorized into [2, 5]\n",
      "21 can be factorized into [3, 7]\n",
      "22 can be factorized into [2, 11]\n",
      "23 is a prime number\n",
      "24 can be factorized into [2, 3]\n",
      "25 is a prime number\n",
      "26 can be factorized into [2, 13]\n",
      "27 is a prime number\n",
      "28 can be factorized into [2, 7]\n",
      "29 is a prime number\n",
      "30 can be factorized into [2, 3, 5]\n",
      "31 is a prime number\n",
      "32 is a prime number\n",
      "33 can be factorized into [3, 11]\n",
      "34 can be factorized into [2, 17]\n",
      "35 can be factorized into [5, 7]\n",
      "36 can be factorized into [2, 3]\n",
      "37 is a prime number\n",
      "38 can be factorized into [2, 19]\n",
      "39 can be factorized into [3, 13]\n",
      "40 can be factorized into [2, 5]\n",
      "41 is a prime number\n",
      "42 can be factorized into [2, 3, 7]\n",
      "43 is a prime number\n",
      "44 can be factorized into [2, 11]\n",
      "45 can be factorized into [3, 5]\n",
      "46 can be factorized into [2, 23]\n",
      "47 is a prime number\n",
      "48 can be factorized into [2, 3]\n",
      "49 is a prime number\n",
      "50 can be factorized into [2, 5]\n",
      "51 can be factorized into [3, 17]\n",
      "52 can be factorized into [2, 13]\n",
      "53 is a prime number\n",
      "54 can be factorized into [2, 3]\n",
      "55 can be factorized into [5, 11]\n",
      "56 can be factorized into [2, 7]\n",
      "57 can be factorized into [3, 19]\n",
      "58 can be factorized into [2, 29]\n",
      "59 is a prime number\n",
      "60 can be factorized into [2, 3, 5]\n",
      "61 is a prime number\n",
      "62 can be factorized into [2, 31]\n",
      "63 can be factorized into [3, 7]\n",
      "64 is a prime number\n",
      "65 can be factorized into [5, 13]\n",
      "66 can be factorized into [2, 3, 11]\n",
      "67 is a prime number\n",
      "68 can be factorized into [2, 17]\n",
      "69 can be factorized into [3, 23]\n",
      "70 can be factorized into [2, 5, 7]\n",
      "71 is a prime number\n",
      "72 can be factorized into [2, 3]\n",
      "73 is a prime number\n",
      "74 can be factorized into [2, 37]\n",
      "75 can be factorized into [3, 5]\n",
      "76 can be factorized into [2, 19]\n",
      "77 can be factorized into [7, 11]\n",
      "78 can be factorized into [2, 3, 13]\n",
      "79 is a prime number\n",
      "80 can be factorized into [2, 5]\n",
      "81 is a prime number\n",
      "82 can be factorized into [2, 41]\n",
      "83 is a prime number\n",
      "84 can be factorized into [2, 3, 7]\n",
      "85 can be factorized into [5, 17]\n",
      "86 can be factorized into [2, 43]\n",
      "87 can be factorized into [3, 29]\n",
      "88 can be factorized into [2, 11]\n",
      "89 is a prime number\n",
      "90 can be factorized into [2, 3, 5]\n",
      "91 can be factorized into [7, 13]\n",
      "92 can be factorized into [2, 23]\n",
      "93 can be factorized into [3, 31]\n",
      "94 can be factorized into [2, 47]\n",
      "95 can be factorized into [5, 19]\n",
      "96 can be factorized into [2, 3]\n",
      "97 is a prime number\n",
      "98 can be factorized into [2, 7]\n",
      "99 can be factorized into [3, 11]\n",
      "100 can be factorized into [2, 5]\n"
     ]
    }
   ],
   "source": [
    "for num in range(1, 100+1):\n",
    "    factor_dict = list(sym.factorint(num).keys())\n",
    "    if len(factor_dict) == 1:\n",
    "        print(f\"{num} is a prime number\")\n",
    "    else:\n",
    "        print(f\"{num} can be factorized into {str(factor_dict)}\")"
   ]
  },
  {
   "cell_type": "code",
   "execution_count": null,
   "metadata": {},
   "outputs": [],
   "source": [
    "def test_func(a: int, b: int, c: int) -> None:\n",
    "    \"\"\"does nothing\n",
    "\n",
    "    Args:\n",
    "        a (int): is a number\n",
    "        b (int): is also a number\n",
    "        c (int): probably also is a number\n",
    "    \"\"\"    \n",
    "    "
   ]
  }
 ],
 "metadata": {
  "kernelspec": {
   "display_name": "new",
   "language": "python",
   "name": "python3"
  },
  "language_info": {
   "codemirror_mode": {
    "name": "ipython",
    "version": 3
   },
   "file_extension": ".py",
   "mimetype": "text/x-python",
   "name": "python",
   "nbconvert_exporter": "python",
   "pygments_lexer": "ipython3",
   "version": "3.11.7"
  }
 },
 "nbformat": 4,
 "nbformat_minor": 2
}
